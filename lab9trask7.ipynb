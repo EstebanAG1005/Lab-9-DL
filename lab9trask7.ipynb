{
  "cells": [
    {
      "cell_type": "markdown",
      "metadata": {
        "id": "view-in-github"
      },
      "source": [
        "<a href=\"https://colab.research.google.com/github/EstebanAG1005/Lab-9-DL/blob/main/lab9.ipynb\" target=\"_parent\"><img src=\"https://colab.research.google.com/assets/colab-badge.svg\" alt=\"Open In Colab\"/></a>"
      ]
    },
    {
      "cell_type": "markdown",
      "metadata": {
        "id": "THGwebW4heyM"
      },
      "source": [
        "## Task - Práctica\n",
        "\n",
        "Se le proporcionan 5 años de datos de ventas de artículos de una cadena de tiendas y se le pide que prediga 3 meses de ventas para 50 artículos diferentes en 10 tiendas diferentes. Descarguen el dataset de Kaggle aquí por favor. Para esto considere los siguiente:"
      ]
    },
    {
      "cell_type": "markdown",
      "metadata": {
        "id": "HOaR8tVfheyN"
      },
      "source": [
        "### 7 - Ajuste de hiperparámetros:\n",
        "a. Experimente con diferentes hiperparámetros (por ejemplo, número de capas, unidades, tasas de dropout) para optimizar el rendimiento del modelo.\n"
      ]
    },
    {
      "cell_type": "code",
      "source": [
        "import pandas as pd\n",
        "import numpy as np\n",
        "from sklearn.preprocessing import MinMaxScaler\n",
        "from tensorflow.keras.models import Sequential\n",
        "from tensorflow.keras.layers import LSTM, Dense, Dropout\n",
        "from sklearn.model_selection import train_test_split\n",
        "import os\n",
        "\n",
        "# Montar Google Drive (si se está ejecutando en Google Colab)\n",
        "# from google.colab import drive\n",
        "# drive.mount('/content/drive')\n",
        "\n",
        "data_path = \"./train.csv\"\n",
        "\n",
        "data = pd.read_csv(data_path)\n",
        "\n",
        "# Verificar valores nulos\n",
        "print(data.isnull().sum())\n",
        "\n",
        "# Convertir la columna 'date' a datetime\n",
        "data['date'] = pd.to_datetime(data['date'])\n",
        "\n",
        "# Escalar la columna 'sales'\n",
        "scaler = MinMaxScaler(feature_range=(0, 1))\n",
        "data['sales'] = scaler.fit_transform(data[['sales']])\n",
        "\n",
        "# Asumiendo que 'data' es tu DataFrame y ya has realizado la limpieza y escalado\n",
        "train_data = data[data['date'] < '2017-01-01']\n",
        "test_data = data[data['date'] >= '2017-01-01']\n",
        "\n",
        "# Asegurarse de que solo estás trabajando con la columna que deseas predecir, en este caso, 'sales'\n",
        "train_data = train_data[['sales']].values\n",
        "test_data = test_data[['sales']].values\n",
        "\n",
        "def create_sequences(data, window_size):\n",
        "    X, y = [], []\n",
        "    for i in range(len(data) - window_size):\n",
        "        X.append(data[i:(i + window_size), 0])\n",
        "        y.append(data[i + window_size, 0])\n",
        "    return np.array(X), np.array(y)\n",
        "\n",
        "# Definir el tamaño de la ventana\n",
        "window_size = 60  # Por ejemplo, usar los 60 puntos de datos anteriores para predecir el siguiente\n",
        "\n",
        "# Crear secuencias para entrenamiento\n",
        "X_train, y_train = create_sequences(train_data, window_size)\n",
        "\n",
        "# Crear secuencias para prueba\n",
        "X_test, y_test = create_sequences(test_data, window_size)\n",
        "\n",
        "# Es importante que los datos estén en la forma correcta para alimentar a la LSTM\n",
        "# Reformar [muestras, pasos de tiempo, características]\n",
        "X_train = np.reshape(X_train, (X_train.shape[0], X_train.shape[1], 1))\n",
        "X_test = np.reshape(X_test, (X_test.shape[0], X_test.shape[1], 1))\n",
        "\n",
        "# Dividir los datos de entrenamiento para crear un conjunto de validación\n",
        "X_train, X_val, y_train, y_val = train_test_split(X_train, y_train, test_size=0.2, shuffle=False)\n",
        "\n",
        "def build_model(units_lstm, dropout_rate):\n",
        "    model = Sequential()\n",
        "    model.add(LSTM(units=units_lstm, return_sequences=True, input_shape=(X_train.shape[1], 1)))\n",
        "    model.add(Dropout(dropout_rate))\n",
        "    model.add(LSTM(units=units_lstm))\n",
        "    model.add(Dropout(dropout_rate))\n",
        "    model.add(Dense(units=1))  # Salida de una unidad para la predicción de ventas\n",
        "    model.compile(optimizer='adam', loss='mean_squared_error')\n",
        "    return model\n",
        "\n",
        "# Listas de hiperparámetros a probar\n",
        "units_lstm_list = [50, 100, 200]\n",
        "dropout_rate_list = [0.2, 0.4, 0.6]\n",
        "\n",
        "# Directorio donde se guardarán los modelos\n",
        "model_dir = 'model_directory'\n",
        "os.makedirs(model_dir, exist_ok=True)\n",
        "\n",
        "best_model = None\n",
        "best_mse = float('inf')\n",
        "\n",
        "# Todos los modelos\n",
        "for units_lstm in units_lstm_list:\n",
        "    for dropout_rate in dropout_rate_list:\n",
        "        # Construir y compilar el modelo\n",
        "        model = build_model(units_lstm, dropout_rate)\n",
        "\n",
        "        # Entrenar el modelo\n",
        "        model.fit(X_train, y_train, epochs=50, batch_size=32, validation_data=(X_val, y_val), verbose=0)\n",
        "\n",
        "        # Evaluar el modelo\n",
        "        loss = model.evaluate(X_test, y_test, verbose=0)\n",
        "\n",
        "        # Generar un nombre único para el modelo basado en los hiperparámetros\n",
        "        model_name = f\"model_units{units_lstm}_dropout{int(dropout_rate * 10)}.keras\"\n",
        "        model_path = os.path.join(model_dir, model_name)\n",
        "\n",
        "        # Guardar el modelo con el nombre único\n",
        "        model.save(model_path)\n",
        "\n",
        "        # Guardar el mejor modelo si la pérdida es menor\n",
        "        if loss < best_mse:\n",
        "            best_mse = loss\n",
        "            best_model = model\n",
        "\n",
        "# Cargar el mejor modelo\n",
        "new_model = best_model\n",
        "\n",
        "# Evaluar el mejor modelo con datos de prueba\n",
        "loss = new_model.evaluate(X_test, y_test)\n",
        "print(f\"Loss: {loss}\")\n",
        "\n",
        "# Si deseas hacer predicciones y compararlas con los valores reales\n",
        "predicted_sales = new_model.predict(X_test)\n",
        "\n",
        "# 'predicted_sales' son los valores escalados, por lo que podrías querer revertir la transformación\n",
        "predicted_sales = scaler.inverse_transform(predicted_sales)\n",
        "\n",
        "# Suponiendo que 'actual_sales' es la parte de 'y_test' que corresponde a las ventas reales\n",
        "actual_sales = scaler.inverse_transform(y_test.reshape(-1, 1))\n",
        "\n",
        "from sklearn.metrics import mean_squared_error, mean_absolute_error\n",
        "import matplotlib.pyplot as plt\n",
        "\n",
        "# Calcular y imprimir MSE y MAE\n",
        "mse = mean_squared_error(actual_sales, predicted_sales)\n",
        "mae = mean_absolute_error(actual_sales, predicted_sales)\n",
        "\n",
        "print(f\"Mean Squared Error (MSE): {mse}\")\n",
        "print(f\"Mean Absolute Error (MAE): {mae}\")\n",
        "\n",
        "# Visualizar los resultados\n",
        "plt.figure(figsize=(15, 6))\n",
        "\n",
        "# Dibujar las ventas reales\n",
        "plt.plot(actual_sales, color='blue', label='Actual Sales')\n",
        "\n",
        "# Dibujar las ventas predichas\n",
        "plt.plot(predicted_sales, color='red', alpha=0.7, label='Predicted Sales')\n",
        "\n",
        "plt.title('Sales Prediction')\n",
        "plt.xlabel('Time')\n",
        "plt.ylabel('Sales')\n",
        "plt.legend()\n",
        "plt.show()\n"
      ],
      "metadata": {
        "colab": {
          "base_uri": "https://localhost:8080/"
        },
        "id": "hvYXVppjPO6W",
        "outputId": "61d84b55-5753-4e87-990f-c4910e69a7d3"
      },
      "execution_count": null,
      "outputs": [
        {
          "output_type": "stream",
          "name": "stdout",
          "text": [
            "date     0\n",
            "store    0\n",
            "item     0\n",
            "sales    0\n",
            "dtype: int64\n"
          ]
        }
      ]
    }
  ],
  "metadata": {
    "kernelspec": {
      "display_name": "Python 3",
      "name": "python3"
    },
    "language_info": {
      "codemirror_mode": {
        "name": "ipython",
        "version": 3
      },
      "file_extension": ".py",
      "mimetype": "text/x-python",
      "name": "python",
      "nbconvert_exporter": "python",
      "pygments_lexer": "ipython3",
      "version": "3.10.4"
    },
    "colab": {
      "provenance": [],
      "gpuType": "T4"
    },
    "accelerator": "GPU"
  },
  "nbformat": 4,
  "nbformat_minor": 0
}